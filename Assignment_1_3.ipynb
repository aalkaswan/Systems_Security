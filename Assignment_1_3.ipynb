{
 "cells": [
  {
   "cell_type": "code",
   "execution_count": 4,
   "metadata": {},
   "outputs": [],
   "source": [
    "import numpy as np \n",
    "import matplotlib.pyplot as plt\n",
    "import functools\n",
    "import random\n",
    "from sklearn.linear_model import LogisticRegression \n",
    "from sklearn.model_selection import train_test_split \n",
    "from sklearn import metrics\n",
    "from sklearn import svm"
   ]
  },
  {
   "cell_type": "code",
   "execution_count": 9,
   "metadata": {},
   "outputs": [],
   "source": [
    "def XOR_PUF(challenge_vector, stage_delays, n_PUF, n_stages):\n",
    "    feature_vectors = []\n",
    "    results = []\n",
    "    for k in range(n_PUF): \n",
    "        #print(challenge_vector)\n",
    "        feature_vector = [] \n",
    "        for i in range(n_stages): \n",
    "            feature = 1 \n",
    "            for j in range(i, n_stages): \n",
    "                feature = feature * pow(-1, challenge_vector[j])\n",
    "            feature_vector.append(feature) \n",
    "        feature_vector.append(1)\n",
    "        results.append(np.dot(stage_delays[k], feature_vector) > 0)\n",
    "        feature_vectors.append(feature_vector)\n",
    "        \n",
    "    flat = []\n",
    "    for sublist in feature_vectors:\n",
    "        for element in sublist:\n",
    "            flat.append(element)\n",
    "    return flat, functools.reduce(lambda x, y: x ^ y, results)"
   ]
  },
  {
   "cell_type": "code",
   "execution_count": 23,
   "metadata": {
    "scrolled": true
   },
   "outputs": [
    {
     "name": "stdout",
     "output_type": "stream",
     "text": [
      "0.7418\n"
     ]
    }
   ],
   "source": [
    "def iPUF(upper_layer, lower_layer, n_stages, pos, n_crp):\n",
    "    upper_stage_delays = [np.random.normal(size=n_stages+1) for _ in range(upper_layer)]\n",
    "    lower_stage_delays = [np.random.normal(size=n_stages+2) for _ in range(lower_layer)]\n",
    "    \n",
    "    x=[]\n",
    "    y=[]\n",
    "    for k in range(n_crp):\n",
    "        upper_challenge = np.random.randint(2, size=n_stages)\n",
    "        upper_feature, upper_res = XOR_PUF(upper_challenge, upper_stage_delays, upper_layer, n_stages)\n",
    "        lower_challenge = np.insert(upper_challenge, pos, upper_res)\n",
    "        lower_feature, lower_res = XOR_PUF(lower_challenge, lower_stage_delays, lower_layer, n_stages+1)\n",
    "        x.append(upper_feature + lower_feature)\n",
    "        y.append(lower_res)\n",
    "    x_array = np.array(x) \n",
    "    y_array = np.array(y)    \n",
    "    return x_array, y_array\n",
    "\n",
    "x_array, y_array = iPUF(4,4,16,8,100000)\n",
    "X_train, X_test, Y_train, Y_test = train_test_split(x_array, y_array, test_size = 0.2, random_state = 42)\n",
    "svc = svm.SVC().fit(X_train, Y_train)\n",
    "print(svc.score(X_test, Y_test))\n",
    "    "
   ]
  },
  {
   "cell_type": "code",
   "execution_count": null,
   "metadata": {},
   "outputs": [],
   "source": []
  },
  {
   "cell_type": "code",
   "execution_count": null,
   "metadata": {},
   "outputs": [],
   "source": []
  }
 ],
 "metadata": {
  "kernelspec": {
   "display_name": "Python 3",
   "language": "python",
   "name": "python3"
  },
  "language_info": {
   "codemirror_mode": {
    "name": "ipython",
    "version": 3
   },
   "file_extension": ".py",
   "mimetype": "text/x-python",
   "name": "python",
   "nbconvert_exporter": "python",
   "pygments_lexer": "ipython3",
   "version": "3.8.5"
  }
 },
 "nbformat": 4,
 "nbformat_minor": 4
}
