{
 "cells": [
  {
   "cell_type": "code",
   "execution_count": 1,
   "metadata": {},
   "outputs": [],
   "source": [
    "# Initialize libraries and load data\n",
    "\"\"\"\n",
    "Created on Wed Mar  4 02:08:22 2020\n",
    "\n",
    "@author: stjepan\n",
    "\"\"\"\n",
    "import numpy as np\n",
    "from scipy.stats import multivariate_normal\n",
    "import matplotlib.pyplot as plt\n",
    "\n",
    "\n",
    "sbox=(\n",
    "    0x63,0x7c,0x77,0x7b,0xf2,0x6b,0x6f,0xc5,0x30,0x01,0x67,0x2b,0xfe,0xd7,0xab,0x76,\n",
    "    0xca,0x82,0xc9,0x7d,0xfa,0x59,0x47,0xf0,0xad,0xd4,0xa2,0xaf,0x9c,0xa4,0x72,0xc0,\n",
    "    0xb7,0xfd,0x93,0x26,0x36,0x3f,0xf7,0xcc,0x34,0xa5,0xe5,0xf1,0x71,0xd8,0x31,0x15,\n",
    "    0x04,0xc7,0x23,0xc3,0x18,0x96,0x05,0x9a,0x07,0x12,0x80,0xe2,0xeb,0x27,0xb2,0x75,\n",
    "    0x09,0x83,0x2c,0x1a,0x1b,0x6e,0x5a,0xa0,0x52,0x3b,0xd6,0xb3,0x29,0xe3,0x2f,0x84,\n",
    "    0x53,0xd1,0x00,0xed,0x20,0xfc,0xb1,0x5b,0x6a,0xcb,0xbe,0x39,0x4a,0x4c,0x58,0xcf,\n",
    "    0xd0,0xef,0xaa,0xfb,0x43,0x4d,0x33,0x85,0x45,0xf9,0x02,0x7f,0x50,0x3c,0x9f,0xa8,\n",
    "    0x51,0xa3,0x40,0x8f,0x92,0x9d,0x38,0xf5,0xbc,0xb6,0xda,0x21,0x10,0xff,0xf3,0xd2,\n",
    "    0xcd,0x0c,0x13,0xec,0x5f,0x97,0x44,0x17,0xc4,0xa7,0x7e,0x3d,0x64,0x5d,0x19,0x73,\n",
    "    0x60,0x81,0x4f,0xdc,0x22,0x2a,0x90,0x88,0x46,0xee,0xb8,0x14,0xde,0x5e,0x0b,0xdb,\n",
    "    0xe0,0x32,0x3a,0x0a,0x49,0x06,0x24,0x5c,0xc2,0xd3,0xac,0x62,0x91,0x95,0xe4,0x79,\n",
    "    0xe7,0xc8,0x37,0x6d,0x8d,0xd5,0x4e,0xa9,0x6c,0x56,0xf4,0xea,0x65,0x7a,0xae,0x08,\n",
    "    0xba,0x78,0x25,0x2e,0x1c,0xa6,0xb4,0xc6,0xe8,0xdd,0x74,0x1f,0x4b,0xbd,0x8b,0x8a,\n",
    "    0x70,0x3e,0xb5,0x66,0x48,0x03,0xf6,0x0e,0x61,0x35,0x57,0xb9,0x86,0xc1,0x1d,0x9e,\n",
    "    0xe1,0xf8,0x98,0x11,0x69,0xd9,0x8e,0x94,0x9b,0x1e,0x87,0xe9,0xce,0x55,0x28,0xdf,\n",
    "    0x8c,0xa1,0x89,0x0d,0xbf,0xe6,0x42,0x68,0x41,0x99,0x2d,0x0f,0xb0,0x54,0xbb,0x16) \n",
    "\n",
    "hamming = [bin(n).count(\"1\") for n in range(256)]\n",
    "\n",
    "def cov(x, y):\n",
    "    return np.cov(x, y)[0][1]\n",
    "\n",
    "def intermediate(pt, keyguess):\n",
    "    return sbox[pt ^ keyguess]\n",
    "\n",
    "traces = np.load(r'chipwhisperer\\traces.npy')\n",
    "pt = np.load(r'chipwhisperer\\plain.npy')\n",
    "knownkey = np.load(r'chipwhisperer\\key.npy')"
   ]
  },
  {
   "cell_type": "code",
   "execution_count": 2,
   "metadata": {},
   "outputs": [],
   "source": [
    "def attackSubKey(pooled=False, nProfilingTraces = 9000, nAttackTraces = 10, key=0, numFeatures = 10):\n",
    "    tracesTrain = traces[0:nProfilingTraces]\n",
    "    ptTrain  = pt[0:nProfilingTraces]\n",
    "\n",
    "    tracesTest = traces[10000 - nAttackTraces:10000]\n",
    "    ptTest  = pt[10000 - nAttackTraces:10000]\n",
    "\n",
    "    outputSbox = [intermediate(ptTrain[i][key], knownkey[i][key]) for i in range(len(ptTrain))] \n",
    "\n",
    "    Traces = [[] for _ in range(256)]\n",
    "\n",
    "    for i in range(len(tracesTrain)):\n",
    "        v = outputSbox[i]\n",
    "        Traces[v].append(tracesTrain[i])\n",
    "    \n",
    "    Traces = [np.array(Traces[i]) for i in range(256)]\n",
    "\n",
    "    Means = np.zeros((256, len(tracesTrain[0])))\n",
    "    for i in range(256):\n",
    "        Means[i] = np.average(Traces[i], 0)\n",
    "\n",
    "    SumDiff = np.zeros(len(tracesTrain[0]))\n",
    "    for i in range(256):\n",
    "        for j in range(i):\n",
    "            SumDiff += np.abs(Means[i] - Means[j])\n",
    "\n",
    "    features = []\n",
    "    featureSpacing = 5\n",
    "    for i in range(numFeatures):\n",
    "        nextFeature = SumDiff.argmax()\n",
    "        features.append(nextFeature)\n",
    "\n",
    "        featureMin = max(0, nextFeature - featureSpacing)\n",
    "        featureMax = min(nextFeature + featureSpacing, len(SumDiff))\n",
    "        for j in range(featureMin, featureMax):\n",
    "            SumDiff[j] = 0\n",
    "\n",
    "    meanMatrix = np.zeros((256, numFeatures))\n",
    "    covMatrix  = np.zeros((256, numFeatures, numFeatures))\n",
    "\n",
    "    for intermediate_val in range(256):\n",
    "        for i in range(numFeatures):\n",
    "            meanMatrix[intermediate_val][i] = Means[intermediate_val][features[i]]\n",
    "            for j in range(numFeatures):\n",
    "                x = Traces[intermediate_val][:,features[i]]\n",
    "                y = Traces[intermediate_val][:,features[j]]\n",
    "                covMatrix[intermediate_val,i,j] = cov(x, y)\n",
    "\n",
    "    key_rank = np.zeros(16)\n",
    "    P_k = np.zeros(256)\n",
    "    if(pooled):\n",
    "        pooled_cov = np.average(covMatrix, axis=0) #take average cov matrix for all possible intermediate values\n",
    "    ranks = np.zeros(len(tracesTest))\n",
    "    for j in range(len(tracesTest)):\n",
    "        a = [tracesTest[j][features[i]] for i in range(len(features))]\n",
    "\n",
    "        for kguess in range(0, 256):\n",
    "            intermediate_res = intermediate(ptTest[j][key], kguess)\n",
    "            if(pooled):\n",
    "                rv = multivariate_normal(meanMatrix[intermediate_res], pooled_cov) #pooled cov matrix\n",
    "            else:\n",
    "                rv = multivariate_normal(meanMatrix[intermediate_res], covMatrix[intermediate_res])\n",
    "            p_kj = rv.pdf(a)\n",
    "            P_k[kguess] += np.log(p_kj)\n",
    "\n",
    "#         print (P_k.argsort()[-15:])    \n",
    "#         tarefs = np.argsort(P_k)[::-1]\n",
    "        res = np.argmax(np.argsort(P_k)[::-1] == knownkey[key][key]) #get pos of correct key guess\n",
    "        ranks[j] = res\n",
    "    return np.average(ranks, 0)\n",
    "\n",
    "def runExperiment(pooled=False, nProfilingTraces = 9000, nAttackTraces = 10, numFeatures = 20):\n",
    "    res = np.zeros(16)\n",
    "    for i in range(16):\n",
    "        res[i] = (attackSubKey(pooled=pooled, nProfilingTraces = nProfilingTraces, nAttackTraces = nAttackTraces, key=i, numFeatures = numFeatures))\n",
    "        \n",
    "    return(np.sum(res, 0))\n",
    "\n"
   ]
  },
  {
   "cell_type": "code",
   "execution_count": 11,
   "metadata": {},
   "outputs": [
    {
     "name": "stdout",
     "output_type": "stream",
     "text": [
      "9000\n"
     ]
    },
    {
     "name": "stderr",
     "output_type": "stream",
     "text": [
      "<ipython-input-2-328101a75c66>:64: RuntimeWarning: divide by zero encountered in log\n",
      "  P_k[kguess] += np.log(p_kj)\n"
     ]
    },
    {
     "name": "stdout",
     "output_type": "stream",
     "text": [
      "9100\n",
      "9200\n",
      "9300\n",
      "9400\n",
      "9500\n",
      "9600\n",
      "9700\n",
      "9800\n",
      "9900\n"
     ]
    },
    {
     "data": {
      "image/png": "[encoded data removed]",
      "text/plain": [
       "<Figure size 432x288 with 1 Axes>"
      ]
     },
     "metadata": {
      "needs_background": "light"
     },
     "output_type": "display_data"
    }
   ],
   "source": [
    "def plot_traces_vs_GE(numFeatures = 10):\n",
    "    num_traces = []\n",
    "    GE = []\n",
    "    pooled_GE = []\n",
    "    for i in range(90, 100):\n",
    "        nProfilingTraces = i*100\n",
    "        print(nProfilingTraces)\n",
    "        num_traces.append(nProfilingTraces)\n",
    "        GE.append(runExperiment(pooled=False, nProfilingTraces = nProfilingTraces, numFeatures = numFeatures))\n",
    "        pooled_GE.append(runExperiment(pooled=True, nProfilingTraces = nProfilingTraces, numFeatures = numFeatures))\n",
    "\n",
    "    plt.plot(num_traces, pooled_GE, 'r', label='pooled') \n",
    "    plt.plot(num_traces, GE, 'b', label='not pooled') \n",
    "    plt.legend(loc='upper center', shadow=True, fontsize='x-large')\n",
    "    plt.xlabel('Number of Profiling Traces')\n",
    "    plt.ylabel('Guessing Entropy')\n",
    "    plt.title('Average Guessing Entropy with {} features'.format(numFeatures))\n",
    "    plt.grid()\n",
    "    plt.show()\n",
    "\n",
    "# plot_traces_vs_GE(10)\n",
    "plot_traces_vs_GE(15)"
   ]
  },
  {
   "cell_type": "code",
   "execution_count": null,
   "metadata": {},
   "outputs": [],
   "source": []
  }
 ],
 "metadata": {
  "kernelspec": {
   "display_name": "Python 3",
   "language": "python",
   "name": "python3"
  },
  "language_info": {
   "codemirror_mode": {
    "name": "ipython",
    "version": 3
   },
   "file_extension": ".py",
   "mimetype": "text/x-python",
   "name": "python",
   "nbconvert_exporter": "python",
   "pygments_lexer": "ipython3",
   "version": "3.8.5"
  }
 },
 "nbformat": 4,
 "nbformat_minor": 4
}
