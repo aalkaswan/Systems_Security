{
 "cells": [
  {
   "cell_type": "code",
   "execution_count": 1,
   "metadata": {},
   "outputs": [],
   "source": [
    "import numpy as np \n",
    "import matplotlib.pyplot as plt\n",
    "from sklearn.linear_model import LogisticRegression \n",
    "from sklearn.model_selection import train_test_split \n",
    "from sklearn import metrics\n",
    "from sklearn import svm"
   ]
  },
  {
   "cell_type": "code",
   "execution_count": null,
   "metadata": {},
   "outputs": [],
   "source": [
    "def ArbiterPUF(n_crp):\n",
    "    n_stages = 128\n",
    "\n",
    "    stage_delays = np.random.normal(size=n_stages+1) \n",
    "\n",
    "    x = [] \n",
    "    y = [] \n",
    "\n",
    "    for _ in range(n_crp): \n",
    "        challenge_vector = np.random.randint(2, size=n_stages) \n",
    "        #print(challenge_vector)\n",
    "        feature_vector = [] \n",
    "        for i in range(n_stages): \n",
    "            feature = 1 \n",
    "            for j in range(i, n_stages): \n",
    "                feature = feature * pow(-1, challenge_vector[j])\n",
    "            feature_vector.append(feature) \n",
    "        feature_vector.append(1)\n",
    "        #print(feature_vector)\n",
    "        puf_result = np.dot(stage_delays, feature_vector) > 0 \n",
    "        x.append(feature_vector) \n",
    "        y.append(puf_result)\n",
    "\n",
    "    x_array = np.array(x) \n",
    "    y_array = np.array(y)    \n",
    "    return x_array, y_array\n",
    "\n",
    "x_array, y_array = ArbiterPUF(1000)\n",
    "X_train, X_test, Y_train, Y_test = train_test_split(x_array, y_array, test_size = 0.2, random_state = 42)\n",
    "\n",
    "def Nr_of_crp():\n",
    "    crps_lr = []\n",
    "    preds_lr = []\n",
    "    crps_svm = []\n",
    "    preds_svm = []\n",
    "    for i in range(1, 200):\n",
    "        crp = i*10\n",
    "        x_array, y_array = ArbiterPUF(crp)\n",
    "        X_train, X_test, Y_train, Y_test = train_test_split(x_array, y_array, test_size = 0.2, random_state = 42)\n",
    "        lr = LogisticRegression(solver=\"lbfgs\").fit(X_train, Y_train)\n",
    "        crps_lr.append(crp)\n",
    "        preds_lr.append(lr.score(X_test, Y_test))\n",
    "        svm = SVC().fit(X_train, Y_train)\n",
    "        crps_svm.append(crp)\n",
    "        preds_svm.append(svm.score(X_test, Y_test))\n",
    "\n",
    "\n",
    "    plt.plot(crps_lr, preds_lr, label = \"LogReg\")\n",
    "    plt.plot(crps_svm, preds_svm, label = \"SVM\")\n",
    "    plt.xlabel('Challenge response pairs')\n",
    "    plt.ylabel('Accuracy')\n",
    "    plt.title('CRP vs Performance')\n",
    "    plt.legend()\n",
    "    plt.show\n",
    "    return"
   ]
  },
  {
   "cell_type": "code",
   "execution_count": 8,
   "metadata": {},
   "outputs": [],
   "source": [
    "import functools\n",
    "from sklearn import svm\n",
    "import random\n",
    "\n",
    "def XORPUF(n_PUF, n_crp, n_stages = 64):\n",
    "    stage_delays = [np.random.normal(size=n_stages+1) for _ in range(n_PUF)]\n",
    "\n",
    "    x = [] \n",
    "    y = [] \n",
    "    for _ in range(n_crp):\n",
    "        feature_vectors = []\n",
    "        results = []\n",
    "        challenge_vector = np.random.randint(2, size=n_stages)\n",
    "        for k in range(n_PUF): \n",
    "            #print(challenge_vector)\n",
    "            feature_vector = [] \n",
    "            for i in range(n_stages): \n",
    "                feature = 1 \n",
    "                for j in range(i, n_stages): \n",
    "                    feature = feature * pow(-1, challenge_vector[j])\n",
    "                feature_vector.append(feature) \n",
    "            feature_vector.append(1)\n",
    "            results.append(np.dot(stage_delays[k], feature_vector) > 0)\n",
    "            feature_vectors.append(feature_vector)\n",
    "        \n",
    "        flat = []\n",
    "        for sublist in feature_vectors:\n",
    "            for element in sublist:\n",
    "                flat.append(element)\n",
    "        x.append(flat)\n",
    "        y.append(functools.reduce(lambda x, y: x ^ y, results))\n",
    "\n",
    "    x_array = np.array(x) \n",
    "    y_array = np.array(y)    \n",
    "    return x_array, y_array"
   ]
  },
  {
   "cell_type": "code",
   "execution_count": null,
   "metadata": {},
   "outputs": [],
   "source": [
    "def Nr_of_crp_XOR():\n",
    "    crps = []\n",
    "    preds_lr = []\n",
    "    preds_svm = []\n",
    "    x_array, y_array = XORPUF(2, 20000)\n",
    "    for i in range(2, 50):\n",
    "        crp = i*400\n",
    "        print(i)\n",
    "        c = list(zip(x_array, y_array))\n",
    "        random.shuffle(c)\n",
    "        c = c[0:crp]\n",
    "        x_subset, y_subset = zip(*c)\n",
    "        X_train, X_test, Y_train, Y_test = train_test_split(x_subset, y_subset, test_size = 0.2, random_state = 42)\n",
    "        lr = LogisticRegression(solver=\"lbfgs\").fit(X_train, Y_train)\n",
    "        crps.append(crp)\n",
    "        preds_lr.append(lr.score(X_test, Y_test))\n",
    "        svc = svm.SVC().fit(X_train, Y_train)\n",
    "        preds_svm.append(svc.score(X_test, Y_test))\n",
    "\n",
    "    print(preds_svm)\n",
    "    plt.plot(crps, preds_lr, label = \"LogReg\")\n",
    "    plt.plot(crps, preds_svm, label = \"SVM\")\n",
    "    plt.xlabel('Challenge response pairs')\n",
    "    plt.ylabel('Accuracy')\n",
    "    plt.title('CRP vs Accuracy')\n",
    "    plt.legend()\n",
    "    plt.show\n",
    "    return\n",
    "\n",
    "Nr_of_crp_XOR()"
   ]
  },
  {
   "cell_type": "code",
   "execution_count": 14,
   "metadata": {},
   "outputs": [
    {
     "name": "stdout",
     "output_type": "stream",
     "text": [
      "1\n",
      "2\n",
      "4\n",
      "6\n",
      "8\n",
      "16\n",
      "32\n"
     ]
    },
    {
     "data": {
      "image/png": "[encoded data removed]",
      "text/plain": [
       "<Figure size 432x288 with 1 Axes>"
      ]
     },
     "metadata": {
      "needs_background": "light"
     },
     "output_type": "display_data"
    }
   ],
   "source": [
    "def Nr_of_stages_XOR():\n",
    "    stages = []\n",
    "    preds_lr = []\n",
    "    preds_svm = []\n",
    "    for i in [1,2, 4, 6, 8, 16, 32]:\n",
    "        print(i)\n",
    "        x_array, y_array = XORPUF(i, 5000, int(128/i))\n",
    "        X_train, X_test, Y_train, Y_test = train_test_split(x_array, y_array, test_size = 0.2, random_state = 42)\n",
    "        stages.append(i)\n",
    "        svc = svm.SVC().fit(X_train, Y_train)\n",
    "        preds_svm.append(svc.score(X_test, Y_test))\n",
    "    plt.plot(stages, preds_svm, label = \"SVM\")\n",
    "    plt.xlabel('PUFs in XOR')\n",
    "    plt.ylabel('Accuracy')\n",
    "    plt.title('Stages vs Accuracy')\n",
    "    plt.legend()\n",
    "    plt.show\n",
    "    return\n",
    "\n",
    "Nr_of_stages_XOR()"
   ]
  },
  {
   "cell_type": "code",
   "execution_count": null,
   "metadata": {},
   "outputs": [],
   "source": []
  }
 ],
 "metadata": {
  "kernelspec": {
   "display_name": "Python 3",
   "language": "python",
   "name": "python3"
  },
  "language_info": {
   "codemirror_mode": {
    "name": "ipython",
    "version": 3
   },
   "file_extension": ".py",
   "mimetype": "text/x-python",
   "name": "python",
   "nbconvert_exporter": "python",
   "pygments_lexer": "ipython3",
   "version": "3.8.5"
  }
 },
 "nbformat": 4,
 "nbformat_minor": 4
}
